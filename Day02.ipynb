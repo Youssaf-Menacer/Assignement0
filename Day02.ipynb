{
 "cells": [
  {
   "cell_type": "markdown",
   "metadata": {},
   "source": [
    "## Coding challenge 0\n",
    "\n",
    "Name: Youssaf Menacer\n",
    "Results:For a given vector of 19 elements, I use random.sample() to return 3 vectors of size 5 and 1 vector of size 4 without replacement."
   ]
  },
  {
   "cell_type": "code",
   "execution_count": 1,
   "metadata": {},
   "outputs": [],
   "source": [
    "import numpy as np\n",
    "import random"
   ]
  },
  {
   "cell_type": "code",
   "execution_count": null,
   "metadata": {},
   "outputs": [],
   "source": []
  },
  {
   "cell_type": "code",
   "execution_count": 6,
   "metadata": {},
   "outputs": [],
   "source": [
    "# N=input(\"N= \") \n",
    "\n",
    "N=19\n",
    "V=range(N)\n",
    "\n",
    "U=np.zeros((5,4))\n",
    "\n",
    "for i in range(4):\n",
    "    U[:,i]=random.sample(V,5)\n",
    "\n",
    "U[4,3]= np.nan # the last colomn is a vector of 4 elements U\n",
    "    "
   ]
  },
  {
   "cell_type": "code",
   "execution_count": 7,
   "metadata": {},
   "outputs": [
    {
     "data": {
      "text/plain": [
       "array([[ 1.,  0.,  1., 10.],\n",
       "       [ 7., 17., 12., 17.],\n",
       "       [ 3., 12., 11., 18.],\n",
       "       [17.,  9.,  5.,  6.],\n",
       "       [ 9.,  2., 17., nan]])"
      ]
     },
     "execution_count": 7,
     "metadata": {},
     "output_type": "execute_result"
    }
   ],
   "source": [
    "U"
   ]
  },
  {
   "cell_type": "code",
   "execution_count": null,
   "metadata": {},
   "outputs": [],
   "source": []
  },
  {
   "cell_type": "code",
   "execution_count": null,
   "metadata": {},
   "outputs": [],
   "source": []
  }
 ],
 "metadata": {
  "kernelspec": {
   "display_name": "Python 3",
   "language": "python",
   "name": "python3"
  },
  "language_info": {
   "codemirror_mode": {
    "name": "ipython",
    "version": 3
   },
   "file_extension": ".py",
   "mimetype": "text/x-python",
   "name": "python",
   "nbconvert_exporter": "python",
   "pygments_lexer": "ipython3",
   "version": "3.7.3"
  }
 },
 "nbformat": 4,
 "nbformat_minor": 2
}
